{
  "nbformat": 4,
  "nbformat_minor": 0,
  "metadata": {
    "colab": {
      "provenance": [],
      "authorship_tag": "ABX9TyOPFwJxGJSyeuYm1NSG5wZO",
      "include_colab_link": true
    },
    "kernelspec": {
      "name": "python3",
      "display_name": "Python 3"
    },
    "language_info": {
      "name": "python"
    },
    "accelerator": "GPU",
    "gpuClass": "standard"
  },
  "cells": [
    {
      "cell_type": "markdown",
      "metadata": {
        "id": "view-in-github",
        "colab_type": "text"
      },
      "source": [
        "<a href=\"https://colab.research.google.com/github/SAR2652/NIFTY-50-Prediction/blob/main/Trainer.ipynb\" target=\"_parent\"><img src=\"https://colab.research.google.com/assets/colab-badge.svg\" alt=\"Open In Colab\"/></a>"
      ]
    },
    {
      "cell_type": "code",
      "execution_count": null,
      "metadata": {
        "colab": {
          "base_uri": "https://localhost:8080/"
        },
        "id": "huh4GILfUUTU",
        "outputId": "9402b711-c84b-4b44-fcde-17a386e1e361"
      },
      "outputs": [
        {
          "output_type": "stream",
          "name": "stdout",
          "text": [
            "Cloning into 'NIFTY-50-Prediction'...\n",
            "remote: Enumerating objects: 15, done.\u001b[K\n",
            "remote: Counting objects: 100% (15/15), done.\u001b[K\n",
            "remote: Compressing objects: 100% (12/12), done.\u001b[K\n",
            "remote: Total 15 (delta 5), reused 13 (delta 3), pack-reused 0\u001b[K\n",
            "Unpacking objects: 100% (15/15), 240.31 KiB | 5.46 MiB/s, done.\n"
          ]
        }
      ],
      "source": [
        "!git clone https://github.com/SAR2652/NIFTY-50-Prediction.git"
      ]
    },
    {
      "cell_type": "code",
      "source": [
        "!ls -a"
      ],
      "metadata": {
        "colab": {
          "base_uri": "https://localhost:8080/"
        },
        "id": "EOBHWJA4WD1R",
        "outputId": "c9794d23-8e38-4766-fec2-fd2386d0e1ce"
      },
      "execution_count": null,
      "outputs": [
        {
          "output_type": "stream",
          "name": "stdout",
          "text": [
            ".  ..  .config\tNIFTY-50-Prediction  sample_data\n"
          ]
        }
      ]
    },
    {
      "cell_type": "code",
      "source": [
        "%cd  NIFTY-50-Prediction/"
      ],
      "metadata": {
        "colab": {
          "base_uri": "https://localhost:8080/"
        },
        "id": "ag-piKvDVgDl",
        "outputId": "c56d5b1b-0a01-4bc0-fcf0-bc4aa4fa845c"
      },
      "execution_count": null,
      "outputs": [
        {
          "output_type": "stream",
          "name": "stdout",
          "text": [
            "/content/NIFTY-50-Prediction\n"
          ]
        }
      ]
    },
    {
      "cell_type": "code",
      "source": [
        "!wget --load-cookies /tmp/cookies.txt \"https://docs.google.com/uc?export=download&confirm=$(wget --quiet --save-cookies /tmp/cookies.txt --keep-session-cookies --no-check-certificate 'https://docs.google.com/uc?export=download&id=1dZFqj9qHOE_xzscsN2Tcg2HYxGTsmhkc' -O- | sed -rn 's/.*confirm=([0-9A-Za-z_]+).*/\\1\\n/p')&id=1dZFqj9qHOE_xzscsN2Tcg2HYxGTsmhkc\" -O NIFTY_5_minute_with_indicators_.csv && rm -rf /tmp/cookies.txt"
      ],
      "metadata": {
        "colab": {
          "base_uri": "https://localhost:8080/"
        },
        "id": "rbf-_VMsVjEu",
        "outputId": "614ad928-ce18-4b90-cebd-29c7e60cdf6c"
      },
      "execution_count": null,
      "outputs": [
        {
          "output_type": "stream",
          "name": "stdout",
          "text": [
            "--2023-03-08 01:27:00--  https://docs.google.com/uc?export=download&confirm=t&id=1dZFqj9qHOE_xzscsN2Tcg2HYxGTsmhkc\n",
            "Resolving docs.google.com (docs.google.com)... 142.251.31.100, 142.251.31.102, 142.251.31.139, ...\n",
            "Connecting to docs.google.com (docs.google.com)|142.251.31.100|:443... connected.\n",
            "HTTP request sent, awaiting response... 303 See Other\n",
            "Location: https://doc-08-a0-docs.googleusercontent.com/docs/securesc/ha0ro937gcuc7l7deffksulhg5h7mbp1/jc6h2gjoptsvlum8mer4mqu3r6l1r6r7/1678238775000/07404693667092897113/*/1dZFqj9qHOE_xzscsN2Tcg2HYxGTsmhkc?e=download&uuid=caf0bfd2-f1c3-45e9-9288-e846c432b198 [following]\n",
            "Warning: wildcards not supported in HTTP.\n",
            "--2023-03-08 01:27:01--  https://doc-08-a0-docs.googleusercontent.com/docs/securesc/ha0ro937gcuc7l7deffksulhg5h7mbp1/jc6h2gjoptsvlum8mer4mqu3r6l1r6r7/1678238775000/07404693667092897113/*/1dZFqj9qHOE_xzscsN2Tcg2HYxGTsmhkc?e=download&uuid=caf0bfd2-f1c3-45e9-9288-e846c432b198\n",
            "Resolving doc-08-a0-docs.googleusercontent.com (doc-08-a0-docs.googleusercontent.com)... 108.177.119.132, 2a00:1450:4013:c00::84\n",
            "Connecting to doc-08-a0-docs.googleusercontent.com (doc-08-a0-docs.googleusercontent.com)|108.177.119.132|:443... connected.\n",
            "HTTP request sent, awaiting response... 200 OK\n",
            "Length: 139835190 (133M) [text/csv]\n",
            "Saving to: ‘NIFTY_5_minute_with_indicators_.csv’\n",
            "\n",
            "NIFTY_5_minute_with 100%[===================>] 133.36M   190MB/s    in 0.7s    \n",
            "\n",
            "2023-03-08 01:27:02 (190 MB/s) - ‘NIFTY_5_minute_with_indicators_.csv’ saved [139835190/139835190]\n",
            "\n"
          ]
        }
      ]
    },
    {
      "cell_type": "code",
      "source": [
        "!ls -a"
      ],
      "metadata": {
        "colab": {
          "base_uri": "https://localhost:8080/"
        },
        "id": "DqKS5_zxWk9t",
        "outputId": "3ee7fa37-30df-4701-f106-6dbddaae73c3"
      },
      "execution_count": null,
      "outputs": [
        {
          "output_type": "stream",
          "name": "stdout",
          "text": [
            ".   EDA.ipynb  .gitignore    NIFTY_5_minute_with_indicators_.csv  train.py\n",
            "..  .git       inference.py  spark_pipeline.py\n"
          ]
        }
      ]
    },
    {
      "cell_type": "code",
      "source": [
        "!pip install pyspark"
      ],
      "metadata": {
        "colab": {
          "base_uri": "https://localhost:8080/"
        },
        "id": "Th2i6olYWFq-",
        "outputId": "7f3edb31-2189-4adb-c7d5-a9b08876cbdb"
      },
      "execution_count": null,
      "outputs": [
        {
          "output_type": "stream",
          "name": "stdout",
          "text": [
            "Looking in indexes: https://pypi.org/simple, https://us-python.pkg.dev/colab-wheels/public/simple/\n",
            "Collecting pyspark\n",
            "  Using cached pyspark-3.3.2-py2.py3-none-any.whl\n",
            "Requirement already satisfied: py4j==0.10.9.5 in /usr/local/lib/python3.8/dist-packages (from pyspark) (0.10.9.5)\n",
            "Installing collected packages: pyspark\n",
            "Successfully installed pyspark-3.3.2\n"
          ]
        }
      ]
    },
    {
      "cell_type": "code",
      "source": [
        "!python spark_pipeline.py"
      ],
      "metadata": {
        "colab": {
          "base_uri": "https://localhost:8080/"
        },
        "id": "29xfCqulW5pV",
        "outputId": "dbaaa47e-c370-49f7-e395-661caff75867"
      },
      "execution_count": null,
      "outputs": [
        {
          "output_type": "stream",
          "name": "stdout",
          "text": [
            "Setting default log level to \"WARN\".\n",
            "To adjust logging level use sc.setLogLevel(newLevel). For SparkR, use setLogLevel(newLevel).\n",
            "23/03/08 01:29:28 WARN NativeCodeLoader: Unable to load native-hadoop library for your platform... using builtin-java classes where applicable\n",
            "+-------------------+--------+--------+--------+--------+------+------------------+------------------+------------------+------------------+------------------+------------------+------------------+------------------+------------------+------------------+------------------+------------------+------------------+------------------+------------------+--------+------------------+------------------+------------------+------------------+------------------+------------------+-------------------+-------------------+------------------+------------------+------------------+-------------------+-------------------+-------------------+-------------------+---+-------------------+-------------------+-------------------+--------------------+--------------------+--------------------+--------------------+------------------+------------------+-----------------+------------------+-----------------+-----------------+-----------------+-----------------+-----------------+-------------------+------------------+------------------+------------------+------------------+-------------------+\n",
            "|               date|   close|    high|     low|    open|volume|              sma5|             sma10|             sma15|             sma20|              ema5|             ema10|             ema15|             ema20|         upperband|        middleband|         lowerband|      HT_TRENDLINE|            KAMA10|            KAMA20|            KAMA30|     SAR|            TRIMA5|           TRIMA10|           TRIMA20|              ADX5|             ADX10|             ADX20|                APO|               CCI5|             CCI10|             CCI15|           macd510|            macd520|           macd1020|           macd1520|           macd1226|MFI|              MOM10|              MOM15|              MOM20|                ROC5|               ROC10|               ROC20|                 PPO|             RSI14|              RSI8|            slowk|             slowd|            fastk|            fastd|          fastksr|          fastdsr|           ULTOSC|              WILLR|               ATR|            Trange|          TYPPRICE|       HT_DCPERIOD|               BETA|\n",
            "+-------------------+--------+--------+--------+--------+------+------------------+------------------+------------------+------------------+------------------+------------------+------------------+------------------+------------------+------------------+------------------+------------------+------------------+------------------+------------------+--------+------------------+------------------+------------------+------------------+------------------+------------------+-------------------+-------------------+------------------+------------------+------------------+-------------------+-------------------+-------------------+-------------------+---+-------------------+-------------------+-------------------+--------------------+--------------------+--------------------+--------------------+------------------+------------------+-----------------+------------------+-----------------+-----------------+-----------------+-----------------+-----------------+-------------------+------------------+------------------+------------------+------------------+-------------------+\n",
            "|2015-01-09 09:00:00|18519.75| 18555.3| 18504.2|18543.15|     0|18531.339999999982|         18536.755|18555.436666666654|18568.087499999998|  18531.2788014982| 18540.52224121333|18551.430586109167|18562.991555313085|18556.526536145742|18531.339999999982| 18506.15346385422| 18571.34576233766|18546.436263102045|18579.306692913942| 18568.61734319075|18859.65|18534.838888888888| 18529.98833333332|          18567.41|42.585328577542086| 43.12741554700103| 49.92975683552446| -25.41858974358547|-44.369873228951846|-37.72645074662677|-62.14361673972653| -9.24343971858616|-31.712753829706344|  -22.4692449451868|-11.570150848685444| -32.52644441509619|0.0|-62.150000000001455|-56.900000000001455| -99.20000000000073|-0.00809880542620...| -0.3344652592038533|  -0.532790517188142|-0.13687818597412077| 36.37792767103217|36.720430373644994| 52.5907773904304|55.753717599431674|35.92113370302025| 52.5907773904304|58.19378464312012| 79.6770310999608|52.08405054216863| -68.28786081455164| 35.35471950101856|51.099999999998545|18526.416666666668| 23.54927587165574|0.44716452484135594|\n",
            "|2015-01-09 09:05:00| 18562.8| 18562.8|18519.75|18519.75|     0| 18541.06999999998|           18534.8|18553.169999999987|18563.839999999997|18541.785867665465|18544.572742810906|18552.851762845523|18562.973311949932| 18569.54908711275| 18541.06999999998| 18512.59091288721|18570.232848018648| 18546.66771028084|18578.594875816765| 18568.53858921256|18859.65|18538.027777777777|18529.804999999986|18561.535454545454|40.510771919314024| 42.60821563783518| 49.54146672847433|-26.664423076919775|   91.5667854443419|  61.1626044169826|-9.366189123667247|-2.786875147743558|-21.187444294348097| -18.40051255801518|-10.129583043581079|-28.681094405481417|0.0|-19.549999999999272|              -34.0| -84.95000000000073|  0.2627719879119361|-0.10520736074823844| -0.4555509377807021| -0.1435937193035949| 46.66203257617808| 53.49332153866094|62.55904703224488|  59.2770793736067|88.97104128157663|62.55904703224488|            100.0|85.41074897807248|56.71983553365656| -34.11251980982588| 35.90438239380289| 43.04999999999927|          18548.45| 23.21482264454032|0.46866859199919203|\n",
            "|2015-01-09 09:10:00|18579.55| 18585.5| 18544.7| 18562.8|     0|18547.539999999983|         18534.585|18551.796666666654|18561.899999999998|18554.373911776976|18550.932244118012|18556.189042489834|18564.552044145177|18589.944263963607|18547.539999999983|18505.135736036358|  18569.7893954416| 18546.82922780533|18578.611592415673|18568.654290029473|18859.65|18542.394444444442| 18532.97333333332| 18556.23590909091|  33.0032187058222| 40.28288631972188|  48.6744665960356| -26.85256410256261|  143.5081954387307|177.75700337181956|48.762920823554026| 3.441667657429207| -10.17813237478913|-13.619753733608377|  -8.37003135211853|-24.005323379082256|0.0| -2.150000000001455|-20.600000000002183| -38.79999999999927|  0.1744198585231116|-0.01157052368728...|-0.20839655501158072|-0.14460695956116837|50.045482802162624|58.396804841483544|72.52453393295467| 62.55811945187666|92.68142681426718|72.52453393295467|99.99999999999999|86.06459488104007|59.50747641718742|-15.231226134918073| 36.25406936567406| 40.79999999999927|18569.916666666668|22.690038333268138| 0.6772422550745549|\n",
            "|2015-01-09 09:15:00|18575.35|18586.75|18557.05|18570.35|     0| 18555.79999999998|          18540.21| 18550.35999999999|18559.592499999995| 18561.36594118465|18555.371836096554|18558.584162178606|18565.580420893257| 18600.50284110347| 18555.79999999998|18511.097158896493| 18569.57734017094|18548.744216913987|18578.543121491242| 18568.70870715521|18859.65|18555.988888888885| 18538.66833333332| 18551.78090909091|27.346256059139925|38.092523879508576| 47.82407503441749|-29.024358974354982|  89.64138079132445|133.74378755284133| 64.91479159871922| 5.994105087072967| -4.214479712998582| -10.20854692015564|-7.0024096993292915|-20.403447807068005|0.0|              56.25| -21.55000000000291|-46.150000000001455|  0.2228331098707459|  0.3037404625494844| -0.2478318073195096|-0.15628918296805433|  49.2026699250854| 56.68412092395037|89.28088528694427| 74.78815541738129|86.19018776498903|89.28088528694427| 93.8334773923278|97.94449246410927|61.98476593407608|-18.795078489606897|35.785921553840254|29.700000000000728|          18573.05|22.218714142625462| 0.3890436884478582|\n",
            "|2015-01-09 09:20:00| 18613.5|18630.15|18575.35|18575.35|     0| 18570.18999999998|18550.914999999997|18552.043333333324|18561.969999999994|18578.743960789765|18565.940593169908| 18565.44864190628|18570.144190331994| 18630.77908815042| 18570.18999999998|18509.600911849542|18570.205403947904|18558.469911621287| 18579.34775582343| 18568.93938377779|18859.65|18572.022222222222|18546.263333333318|18549.230000000003|31.175501005688922| 35.28345543918085|46.168207717223666| -28.13012820512813| 126.21654501216025| 181.8228603777254|141.43302707793305|12.803367619177152|  8.599770454846293| -4.203566172182036| -4.700930537306704|-14.305642754272412|0.0| 107.04999999999927|              25.25|  47.54999999999927|  0.3880473854666944|  0.5784469738928877| 0.25611401517293686|-0.15145964604629988| 56.38736784248712| 66.79392746707428|88.55069433970407| 83.45203785320102|86.78046843985601|88.55069433970407|            100.0|97.94449246410927|58.96087423803282|-11.063122923589008| 37.14407001428044| 54.80000000000291|18606.333333333332| 21.95143516375484|0.30421234548781356|\n",
            "+-------------------+--------+--------+--------+--------+------+------------------+------------------+------------------+------------------+------------------+------------------+------------------+------------------+------------------+------------------+------------------+------------------+------------------+------------------+------------------+--------+------------------+------------------+------------------+------------------+------------------+------------------+-------------------+-------------------+------------------+------------------+------------------+-------------------+-------------------+-------------------+-------------------+---+-------------------+-------------------+-------------------+--------------------+--------------------+--------------------+--------------------+------------------+------------------+-----------------+------------------+-----------------+-----------------+-----------------+-----------------+-----------------+-------------------+------------------+------------------+------------------+------------------+-------------------+\n",
            "only showing top 5 rows\n",
            "\n",
            "root\n",
            " |-- close: double (nullable = true)\n",
            " |-- high: double (nullable = true)\n",
            " |-- low: double (nullable = true)\n",
            " |-- open: double (nullable = true)\n",
            " |-- sma5: double (nullable = true)\n",
            " |-- sma10: double (nullable = true)\n",
            " |-- sma15: double (nullable = true)\n",
            " |-- sma20: double (nullable = true)\n",
            " |-- ema5: double (nullable = true)\n",
            " |-- ema10: double (nullable = true)\n",
            " |-- ema15: double (nullable = true)\n",
            " |-- ema20: double (nullable = true)\n",
            " |-- upperband: double (nullable = true)\n",
            " |-- middleband: double (nullable = true)\n",
            " |-- lowerband: double (nullable = true)\n",
            " |-- HT_TRENDLINE: double (nullable = true)\n",
            " |-- KAMA10: double (nullable = true)\n",
            " |-- KAMA20: double (nullable = true)\n",
            " |-- KAMA30: double (nullable = true)\n",
            " |-- SAR: double (nullable = true)\n",
            " |-- TRIMA5: double (nullable = true)\n",
            " |-- TRIMA10: double (nullable = true)\n",
            " |-- TRIMA20: double (nullable = true)\n",
            " |-- ADX5: double (nullable = true)\n",
            " |-- ADX10: double (nullable = true)\n",
            " |-- ADX20: double (nullable = true)\n",
            " |-- APO: double (nullable = true)\n",
            " |-- CCI5: double (nullable = true)\n",
            " |-- CCI10: double (nullable = true)\n",
            " |-- CCI15: double (nullable = true)\n",
            " |-- macd510: double (nullable = true)\n",
            " |-- macd520: double (nullable = true)\n",
            " |-- macd1020: double (nullable = true)\n",
            " |-- macd1520: double (nullable = true)\n",
            " |-- macd1226: double (nullable = true)\n",
            " |-- MFI: double (nullable = true)\n",
            " |-- MOM10: double (nullable = true)\n",
            " |-- MOM15: double (nullable = true)\n",
            " |-- MOM20: double (nullable = true)\n",
            " |-- ROC5: double (nullable = true)\n",
            " |-- ROC10: double (nullable = true)\n",
            " |-- ROC20: double (nullable = true)\n",
            " |-- PPO: double (nullable = true)\n",
            " |-- RSI14: double (nullable = true)\n",
            " |-- RSI8: double (nullable = true)\n",
            " |-- slowk: double (nullable = true)\n",
            " |-- slowd: double (nullable = true)\n",
            " |-- fastk: double (nullable = true)\n",
            " |-- fastd: double (nullable = true)\n",
            " |-- fastksr: double (nullable = true)\n",
            " |-- fastdsr: double (nullable = true)\n",
            " |-- ULTOSC: double (nullable = true)\n",
            " |-- WILLR: double (nullable = true)\n",
            " |-- ATR: double (nullable = true)\n",
            " |-- Trange: double (nullable = true)\n",
            " |-- TYPPRICE: double (nullable = true)\n",
            " |-- HT_DCPERIOD: double (nullable = true)\n",
            " |-- BETA: double (nullable = true)\n",
            "\n",
            "+--------+---------+--------+-------+--------+------------------+------------------+------------------+------------------+------------------+------------------+------------------+------------------+------------------+------------------+------------------+------------------+------------------+------------------+------------------+------------------+------------------+------------------+------------------+\n",
            "|   close|Lag_close|Lag_high|Lag_low|Lag_open|          Lag_sma5|         Lag_sma10|         Lag_sma15|         Lag_sma20|          Lag_ema5|         Lag_ema10|         Lag_ema15|         Lag_ema20|     Lag_upperband|    Lag_middleband|     Lag_lowerband|  Lag_HT_TRENDLINE|        Lag_KAMA10|        Lag_KAMA20|        Lag_KAMA30|        Lag_TRIMA5|       Lag_TRIMA10|       Lag_TRIMA20|      Lag_TYPPRICE|\n",
            "+--------+---------+--------+-------+--------+------------------+------------------+------------------+------------------+------------------+------------------+------------------+------------------+------------------+------------------+------------------+------------------+------------------+------------------+------------------+------------------+------------------+------------------+------------------+\n",
            "|13496.65|     null|    null|   null|    null|              null|              null|              null|              null|              null|              null|              null|              null|              null|              null|              null|              null|              null|              null|              null|              null|              null|              null|              null|\n",
            "|13593.75| 13496.65|13618.05|13494.5|13618.05| 13645.41999999999|13733.964999999978| 13784.38999999989|13818.254999999981|13630.429910488001|13704.120543251493|13745.824745839105|13771.186775482785|13807.367937358122| 13645.41999999999|13483.472062641857|13838.680000000002|13764.192088412852|13808.085200321568|13808.167946789494| 13662.78888885261|13743.346666666255|13840.111363636386|           13536.4|\n",
            "| 13612.5| 13593.75| 13637.9|13411.6| 13494.9| 13625.66999999999|13711.454999999978| 13764.32999999989|13801.674999999983|13618.203273658668| 13684.05317175122|13726.815402609216|13754.288034960615|13783.877125043233| 13625.66999999999|13467.462874956746|13823.570952380953|13753.775499946993|13794.502245117135|13798.848176750991| 13618.86111107484|13710.539999999592| 13822.73954545457|          13547.75|\n",
            "|13619.35|  13612.5| 13641.5|13610.5|13640.25|13626.220000000001| 13634.04499999998| 13824.80999999989|13956.957499999995|13635.222599956725|13709.254127240021|13795.328272648256|13866.577664970118|13645.387118020204|13626.220000000001|13607.052881979798|14125.208287348272|13638.897439786442|13658.673485603787|13723.136910506946|13629.033333296416| 13632.09333333293|13931.140909090935|           13621.5|\n",
            "|13622.35| 13619.35| 13647.9|13603.5|13643.85|13631.820000000002| 13850.63499999998|14019.483333333224|14105.049999999994|13674.670662280918|13810.724642115705|13913.983258961787|13984.312969982226|13652.143149688718|13631.820000000002|13611.496850311285|14199.422797619045|13662.300898523623|13750.778735913784|13837.587999218844|13631.644444407517| 13785.38333333293|14172.288636363659|13623.583333333334|\n",
            "+--------+---------+--------+-------+--------+------------------+------------------+------------------+------------------+------------------+------------------+------------------+------------------+------------------+------------------+------------------+------------------+------------------+------------------+------------------+------------------+------------------+------------------+------------------+\n",
            "only showing top 5 rows\n",
            "\n",
            "numexpr.utils: INFO     NumExpr defaulting to 2 threads.\n",
            "root        : INFO     Train Size = 108910\n",
            "root        : INFO     Test Size = 27228\n",
            "root        : INFO     Training Size\n",
            "+--------------------+--------------------+\n",
            "|     scaled_features|        target_close|\n",
            "+--------------------+--------------------+\n",
            "|[0.0,0.0,0.0,0.00...|               [0.0]|\n",
            "|[6.64342354216713...|[6.64342354216713...|\n",
            "|[9.07048760957232...|[9.07048760957232...|\n",
            "|[0.00101334353763...|[0.00101334353763...|\n",
            "|[0.00104523197063...|[0.00104523197063...|\n",
            "+--------------------+--------------------+\n",
            "only showing top 5 rows\n",
            "\n",
            "root        : INFO     Validation + Test Size\n",
            "+--------------------+--------------------+\n",
            "|     scaled_features|        target_close|\n",
            "+--------------------+--------------------+\n",
            "|[0.70833776228236...|[0.7083377622823613]|\n",
            "|[0.70835370649886...|[0.7083537064988626]|\n",
            "|[0.70836610755614...|[0.7083661075561414]|\n",
            "|[0.70838559493186...|[0.7083855949318651]|\n",
            "|[0.70839622440953...|[0.7083962244095324]|\n",
            "+--------------------+--------------------+\n",
            "only showing top 5 rows\n",
            "\n",
            "root        : INFO     Input Dimensions = 24\n"
          ]
        }
      ]
    },
    {
      "cell_type": "code",
      "source": [
        "!pip uninstall pyspark -y"
      ],
      "metadata": {
        "colab": {
          "base_uri": "https://localhost:8080/"
        },
        "id": "qQ7UyBEB2CO0",
        "outputId": "78eacf0e-8b45-4a58-abf0-522403c81a10"
      },
      "execution_count": null,
      "outputs": [
        {
          "output_type": "stream",
          "name": "stdout",
          "text": [
            "Found existing installation: pyspark 3.3.2\n",
            "Uninstalling pyspark-3.3.2:\n",
            "  Would remove:\n",
            "    /usr/local/bin/beeline\n",
            "    /usr/local/bin/beeline.cmd\n",
            "    /usr/local/bin/docker-image-tool.sh\n",
            "    /usr/local/bin/find-spark-home\n",
            "    /usr/local/bin/find-spark-home.cmd\n",
            "    /usr/local/bin/find_spark_home.py\n",
            "    /usr/local/bin/load-spark-env.cmd\n",
            "    /usr/local/bin/load-spark-env.sh\n",
            "    /usr/local/bin/pyspark\n",
            "    /usr/local/bin/pyspark.cmd\n",
            "    /usr/local/bin/pyspark2.cmd\n",
            "    /usr/local/bin/run-example\n",
            "    /usr/local/bin/run-example.cmd\n",
            "    /usr/local/bin/spark-class\n",
            "    /usr/local/bin/spark-class.cmd\n",
            "    /usr/local/bin/spark-class2.cmd\n",
            "    /usr/local/bin/spark-shell\n",
            "    /usr/local/bin/spark-shell.cmd\n",
            "    /usr/local/bin/spark-shell2.cmd\n",
            "    /usr/local/bin/spark-sql\n",
            "    /usr/local/bin/spark-sql.cmd\n",
            "    /usr/local/bin/spark-sql2.cmd\n",
            "    /usr/local/bin/spark-submit\n",
            "    /usr/local/bin/spark-submit.cmd\n",
            "    /usr/local/bin/spark-submit2.cmd\n",
            "    /usr/local/bin/sparkR\n",
            "    /usr/local/bin/sparkR.cmd\n",
            "    /usr/local/bin/sparkR2.cmd\n",
            "    /usr/local/lib/python3.8/dist-packages/pyspark-3.3.2.dist-info/*\n",
            "    /usr/local/lib/python3.8/dist-packages/pyspark/*\n",
            "Proceed (Y/n)? y\n",
            "  Successfully uninstalled pyspark-3.3.2\n"
          ]
        }
      ]
    },
    {
      "cell_type": "code",
      "source": [
        "!pip install tensorflow"
      ],
      "metadata": {
        "colab": {
          "base_uri": "https://localhost:8080/"
        },
        "id": "99yJUwkn1XC4",
        "outputId": "5555f640-a13b-4844-acda-4b34f483ea01"
      },
      "execution_count": null,
      "outputs": [
        {
          "output_type": "stream",
          "name": "stdout",
          "text": [
            "Looking in indexes: https://pypi.org/simple, https://us-python.pkg.dev/colab-wheels/public/simple/\n",
            "Requirement already satisfied: tensorflow in /usr/local/lib/python3.8/dist-packages (2.11.0)\n",
            "Requirement already satisfied: absl-py>=1.0.0 in /usr/local/lib/python3.8/dist-packages (from tensorflow) (1.4.0)\n",
            "Requirement already satisfied: h5py>=2.9.0 in /usr/local/lib/python3.8/dist-packages (from tensorflow) (3.1.0)\n",
            "Requirement already satisfied: google-pasta>=0.1.1 in /usr/local/lib/python3.8/dist-packages (from tensorflow) (0.2.0)\n",
            "Requirement already satisfied: numpy>=1.20 in /usr/local/lib/python3.8/dist-packages (from tensorflow) (1.22.4)\n",
            "Requirement already satisfied: setuptools in /usr/local/lib/python3.8/dist-packages (from tensorflow) (57.4.0)\n",
            "Requirement already satisfied: six>=1.12.0 in /usr/local/lib/python3.8/dist-packages (from tensorflow) (1.15.0)\n",
            "Requirement already satisfied: wrapt>=1.11.0 in /usr/local/lib/python3.8/dist-packages (from tensorflow) (1.15.0)\n",
            "Requirement already satisfied: gast<=0.4.0,>=0.2.1 in /usr/local/lib/python3.8/dist-packages (from tensorflow) (0.4.0)\n",
            "Requirement already satisfied: opt-einsum>=2.3.2 in /usr/local/lib/python3.8/dist-packages (from tensorflow) (3.3.0)\n",
            "Requirement already satisfied: grpcio<2.0,>=1.24.3 in /usr/local/lib/python3.8/dist-packages (from tensorflow) (1.51.3)\n",
            "Requirement already satisfied: tensorflow-estimator<2.12,>=2.11.0 in /usr/local/lib/python3.8/dist-packages (from tensorflow) (2.11.0)\n",
            "Requirement already satisfied: astunparse>=1.6.0 in /usr/local/lib/python3.8/dist-packages (from tensorflow) (1.6.3)\n",
            "Requirement already satisfied: packaging in /usr/local/lib/python3.8/dist-packages (from tensorflow) (23.0)\n",
            "Requirement already satisfied: libclang>=13.0.0 in /usr/local/lib/python3.8/dist-packages (from tensorflow) (15.0.6.1)\n",
            "Requirement already satisfied: protobuf<3.20,>=3.9.2 in /usr/local/lib/python3.8/dist-packages (from tensorflow) (3.19.6)\n",
            "Requirement already satisfied: flatbuffers>=2.0 in /usr/local/lib/python3.8/dist-packages (from tensorflow) (23.1.21)\n",
            "Requirement already satisfied: keras<2.12,>=2.11.0 in /usr/local/lib/python3.8/dist-packages (from tensorflow) (2.11.0)\n",
            "Requirement already satisfied: tensorboard<2.12,>=2.11 in /usr/local/lib/python3.8/dist-packages (from tensorflow) (2.11.2)\n",
            "Requirement already satisfied: termcolor>=1.1.0 in /usr/local/lib/python3.8/dist-packages (from tensorflow) (2.2.0)\n",
            "Requirement already satisfied: tensorflow-io-gcs-filesystem>=0.23.1 in /usr/local/lib/python3.8/dist-packages (from tensorflow) (0.31.0)\n",
            "Requirement already satisfied: typing-extensions>=3.6.6 in /usr/local/lib/python3.8/dist-packages (from tensorflow) (4.5.0)\n",
            "Requirement already satisfied: wheel<1.0,>=0.23.0 in /usr/local/lib/python3.8/dist-packages (from astunparse>=1.6.0->tensorflow) (0.38.4)\n",
            "Requirement already satisfied: tensorboard-data-server<0.7.0,>=0.6.0 in /usr/local/lib/python3.8/dist-packages (from tensorboard<2.12,>=2.11->tensorflow) (0.6.1)\n",
            "Requirement already satisfied: werkzeug>=1.0.1 in /usr/local/lib/python3.8/dist-packages (from tensorboard<2.12,>=2.11->tensorflow) (2.2.3)\n",
            "Requirement already satisfied: markdown>=2.6.8 in /usr/local/lib/python3.8/dist-packages (from tensorboard<2.12,>=2.11->tensorflow) (3.4.1)\n",
            "Requirement already satisfied: requests<3,>=2.21.0 in /usr/local/lib/python3.8/dist-packages (from tensorboard<2.12,>=2.11->tensorflow) (2.25.1)\n",
            "Requirement already satisfied: google-auth<3,>=1.6.3 in /usr/local/lib/python3.8/dist-packages (from tensorboard<2.12,>=2.11->tensorflow) (2.16.2)\n",
            "Requirement already satisfied: google-auth-oauthlib<0.5,>=0.4.1 in /usr/local/lib/python3.8/dist-packages (from tensorboard<2.12,>=2.11->tensorflow) (0.4.6)\n",
            "Requirement already satisfied: tensorboard-plugin-wit>=1.6.0 in /usr/local/lib/python3.8/dist-packages (from tensorboard<2.12,>=2.11->tensorflow) (1.8.1)\n",
            "Requirement already satisfied: rsa<5,>=3.1.4 in /usr/local/lib/python3.8/dist-packages (from google-auth<3,>=1.6.3->tensorboard<2.12,>=2.11->tensorflow) (4.9)\n",
            "Requirement already satisfied: cachetools<6.0,>=2.0.0 in /usr/local/lib/python3.8/dist-packages (from google-auth<3,>=1.6.3->tensorboard<2.12,>=2.11->tensorflow) (5.3.0)\n",
            "Requirement already satisfied: pyasn1-modules>=0.2.1 in /usr/local/lib/python3.8/dist-packages (from google-auth<3,>=1.6.3->tensorboard<2.12,>=2.11->tensorflow) (0.2.8)\n",
            "Requirement already satisfied: requests-oauthlib>=0.7.0 in /usr/local/lib/python3.8/dist-packages (from google-auth-oauthlib<0.5,>=0.4.1->tensorboard<2.12,>=2.11->tensorflow) (1.3.1)\n",
            "Requirement already satisfied: importlib-metadata>=4.4 in /usr/local/lib/python3.8/dist-packages (from markdown>=2.6.8->tensorboard<2.12,>=2.11->tensorflow) (6.0.0)\n",
            "Requirement already satisfied: idna<3,>=2.5 in /usr/local/lib/python3.8/dist-packages (from requests<3,>=2.21.0->tensorboard<2.12,>=2.11->tensorflow) (2.10)\n",
            "Requirement already satisfied: chardet<5,>=3.0.2 in /usr/local/lib/python3.8/dist-packages (from requests<3,>=2.21.0->tensorboard<2.12,>=2.11->tensorflow) (4.0.0)\n",
            "Requirement already satisfied: urllib3<1.27,>=1.21.1 in /usr/local/lib/python3.8/dist-packages (from requests<3,>=2.21.0->tensorboard<2.12,>=2.11->tensorflow) (1.26.14)\n",
            "Requirement already satisfied: certifi>=2017.4.17 in /usr/local/lib/python3.8/dist-packages (from requests<3,>=2.21.0->tensorboard<2.12,>=2.11->tensorflow) (2022.12.7)\n",
            "Requirement already satisfied: MarkupSafe>=2.1.1 in /usr/local/lib/python3.8/dist-packages (from werkzeug>=1.0.1->tensorboard<2.12,>=2.11->tensorflow) (2.1.2)\n",
            "Requirement already satisfied: zipp>=0.5 in /usr/local/lib/python3.8/dist-packages (from importlib-metadata>=4.4->markdown>=2.6.8->tensorboard<2.12,>=2.11->tensorflow) (3.15.0)\n",
            "Requirement already satisfied: pyasn1<0.5.0,>=0.4.6 in /usr/local/lib/python3.8/dist-packages (from pyasn1-modules>=0.2.1->google-auth<3,>=1.6.3->tensorboard<2.12,>=2.11->tensorflow) (0.4.8)\n",
            "Requirement already satisfied: oauthlib>=3.0.0 in /usr/local/lib/python3.8/dist-packages (from requests-oauthlib>=0.7.0->google-auth-oauthlib<0.5,>=0.4.1->tensorboard<2.12,>=2.11->tensorflow) (3.2.2)\n"
          ]
        }
      ]
    },
    {
      "cell_type": "code",
      "source": [
        "!python train.py"
      ],
      "metadata": {
        "colab": {
          "base_uri": "https://localhost:8080/"
        },
        "id": "iUakM82e1CMs",
        "outputId": "7c1d2205-6920-49c5-b77b-6ab5f15c17a9"
      },
      "execution_count": null,
      "outputs": [
        {
          "output_type": "stream",
          "name": "stdout",
          "text": [
            "2023-03-08 01:32:09.380104: I tensorflow/core/platform/cpu_feature_guard.cc:193] This TensorFlow binary is optimized with oneAPI Deep Neural Network Library (oneDNN) to use the following CPU instructions in performance-critical operations:  AVX2 AVX512F FMA\n",
            "To enable them in other operations, rebuild TensorFlow with the appropriate compiler flags.\n",
            "2023-03-08 01:32:10.555875: W tensorflow/compiler/xla/stream_executor/platform/default/dso_loader.cc:64] Could not load dynamic library 'libnvinfer.so.7'; dlerror: libnvinfer.so.7: cannot open shared object file: No such file or directory; LD_LIBRARY_PATH: /usr/lib64-nvidia\n",
            "2023-03-08 01:32:10.556012: W tensorflow/compiler/xla/stream_executor/platform/default/dso_loader.cc:64] Could not load dynamic library 'libnvinfer_plugin.so.7'; dlerror: libnvinfer_plugin.so.7: cannot open shared object file: No such file or directory; LD_LIBRARY_PATH: /usr/lib64-nvidia\n",
            "2023-03-08 01:32:10.556035: W tensorflow/compiler/tf2tensorrt/utils/py_utils.cc:38] TF-TRT Warning: Cannot dlopen some TensorRT libraries. If you would like to use Nvidia GPU with TensorRT, please make sure the missing libraries mentioned above are installed properly.\n",
            "2023-03-08 01:32:17.151397: W tensorflow/core/common_runtime/gpu/gpu_bfc_allocator.cc:42] Overriding orig_value setting because the TF_FORCE_GPU_ALLOW_GROWTH environment variable is set. Original config value was 0.\n",
            "Epoch 1/46\n",
            "2541/2553 [============================>.] - ETA: 0s - loss: 1.1360e-04 - root_mean_squared_error: 0.0107 - mean_absolute_error: 0.0024\n",
            "Epoch 1: val_root_mean_squared_error improved from inf to 0.00208, saving model to best_dnn.h5\n",
            "2553/2553 [==============================] - 17s 5ms/step - loss: 1.1312e-04 - root_mean_squared_error: 0.0106 - mean_absolute_error: 0.0024 - val_loss: 4.3305e-06 - val_root_mean_squared_error: 0.0021 - val_mean_absolute_error: 0.0016\n",
            "Epoch 2/46\n",
            "2550/2553 [============================>.] - ETA: 0s - loss: 1.2320e-05 - root_mean_squared_error: 0.0035 - mean_absolute_error: 0.0023\n",
            "Epoch 2: val_root_mean_squared_error improved from 0.00208 to 0.00130, saving model to best_dnn.h5\n",
            "2553/2553 [==============================] - 12s 5ms/step - loss: 1.2310e-05 - root_mean_squared_error: 0.0035 - mean_absolute_error: 0.0023 - val_loss: 1.6870e-06 - val_root_mean_squared_error: 0.0013 - val_mean_absolute_error: 8.0851e-04\n",
            "Epoch 3/46\n",
            "2539/2553 [============================>.] - ETA: 0s - loss: 1.0500e-05 - root_mean_squared_error: 0.0032 - mean_absolute_error: 0.0021\n",
            "Epoch 3: val_root_mean_squared_error did not improve from 0.00130\n",
            "2553/2553 [==============================] - 11s 4ms/step - loss: 1.0453e-05 - root_mean_squared_error: 0.0032 - mean_absolute_error: 0.0021 - val_loss: 2.1941e-06 - val_root_mean_squared_error: 0.0015 - val_mean_absolute_error: 0.0010\n",
            "Epoch 4/46\n",
            "2541/2553 [============================>.] - ETA: 0s - loss: 1.0363e-05 - root_mean_squared_error: 0.0032 - mean_absolute_error: 0.0019\n",
            "Epoch 4: val_root_mean_squared_error did not improve from 0.00130\n",
            "2553/2553 [==============================] - 12s 5ms/step - loss: 1.0362e-05 - root_mean_squared_error: 0.0032 - mean_absolute_error: 0.0019 - val_loss: 3.6568e-06 - val_root_mean_squared_error: 0.0019 - val_mean_absolute_error: 0.0016\n",
            "Epoch 5/46\n",
            "2549/2553 [============================>.] - ETA: 0s - loss: 6.0634e-06 - root_mean_squared_error: 0.0025 - mean_absolute_error: 0.0017\n",
            "Epoch 5: val_root_mean_squared_error did not improve from 0.00130\n",
            "2553/2553 [==============================] - 11s 4ms/step - loss: 6.0601e-06 - root_mean_squared_error: 0.0025 - mean_absolute_error: 0.0017 - val_loss: 1.8524e-06 - val_root_mean_squared_error: 0.0014 - val_mean_absolute_error: 9.3427e-04\n",
            "Epoch 6/46\n",
            "2548/2553 [============================>.] - ETA: 0s - loss: 6.1291e-06 - root_mean_squared_error: 0.0025 - mean_absolute_error: 0.0017\n",
            "Epoch 6: val_root_mean_squared_error improved from 0.00130 to 0.00118, saving model to best_dnn.h5\n",
            "2553/2553 [==============================] - 12s 5ms/step - loss: 6.1211e-06 - root_mean_squared_error: 0.0025 - mean_absolute_error: 0.0017 - val_loss: 1.4021e-06 - val_root_mean_squared_error: 0.0012 - val_mean_absolute_error: 8.0669e-04\n",
            "Epoch 7/46\n",
            "2541/2553 [============================>.] - ETA: 0s - loss: 4.8125e-06 - root_mean_squared_error: 0.0022 - mean_absolute_error: 0.0015\n",
            "Epoch 7: val_root_mean_squared_error did not improve from 0.00118\n",
            "2553/2553 [==============================] - 12s 5ms/step - loss: 4.7981e-06 - root_mean_squared_error: 0.0022 - mean_absolute_error: 0.0015 - val_loss: 2.8759e-06 - val_root_mean_squared_error: 0.0017 - val_mean_absolute_error: 0.0013\n",
            "Epoch 8/46\n",
            "2549/2553 [============================>.] - ETA: 0s - loss: 5.0326e-06 - root_mean_squared_error: 0.0022 - mean_absolute_error: 0.0015\n",
            "Epoch 8: val_root_mean_squared_error did not improve from 0.00118\n",
            "2553/2553 [==============================] - 11s 4ms/step - loss: 5.1005e-06 - root_mean_squared_error: 0.0023 - mean_absolute_error: 0.0015 - val_loss: 2.9201e-06 - val_root_mean_squared_error: 0.0017 - val_mean_absolute_error: 0.0013\n",
            "Epoch 9/46\n",
            "2545/2553 [============================>.] - ETA: 0s - loss: 4.7542e-06 - root_mean_squared_error: 0.0022 - mean_absolute_error: 0.0014\n",
            "Epoch 9: val_root_mean_squared_error did not improve from 0.00118\n",
            "2553/2553 [==============================] - 12s 5ms/step - loss: 4.8084e-06 - root_mean_squared_error: 0.0022 - mean_absolute_error: 0.0014 - val_loss: 3.5440e-06 - val_root_mean_squared_error: 0.0019 - val_mean_absolute_error: 0.0015\n",
            "Epoch 10/46\n",
            "2547/2553 [============================>.] - ETA: 0s - loss: 4.0542e-06 - root_mean_squared_error: 0.0020 - mean_absolute_error: 0.0014\n",
            "Epoch 10: val_root_mean_squared_error improved from 0.00118 to 0.00092, saving model to best_dnn.h5\n",
            "2553/2553 [==============================] - 10s 4ms/step - loss: 4.0500e-06 - root_mean_squared_error: 0.0020 - mean_absolute_error: 0.0014 - val_loss: 8.4075e-07 - val_root_mean_squared_error: 9.1692e-04 - val_mean_absolute_error: 5.4500e-04\n",
            "Epoch 11/46\n",
            "2552/2553 [============================>.] - ETA: 0s - loss: 4.1645e-06 - root_mean_squared_error: 0.0020 - mean_absolute_error: 0.0013\n",
            "Epoch 11: val_root_mean_squared_error did not improve from 0.00092\n",
            "2553/2553 [==============================] - 10s 4ms/step - loss: 4.1641e-06 - root_mean_squared_error: 0.0020 - mean_absolute_error: 0.0013 - val_loss: 4.9219e-06 - val_root_mean_squared_error: 0.0022 - val_mean_absolute_error: 0.0018\n",
            "Epoch 12/46\n",
            "2547/2553 [============================>.] - ETA: 0s - loss: 4.1538e-06 - root_mean_squared_error: 0.0020 - mean_absolute_error: 0.0013\n",
            "Epoch 12: val_root_mean_squared_error did not improve from 0.00092\n",
            "2553/2553 [==============================] - 11s 4ms/step - loss: 4.1891e-06 - root_mean_squared_error: 0.0020 - mean_absolute_error: 0.0013 - val_loss: 8.7113e-06 - val_root_mean_squared_error: 0.0030 - val_mean_absolute_error: 0.0026\n",
            "Epoch 13/46\n",
            "2538/2553 [============================>.] - ETA: 0s - loss: 3.5888e-06 - root_mean_squared_error: 0.0019 - mean_absolute_error: 0.0013\n",
            "Epoch 13: val_root_mean_squared_error did not improve from 0.00092\n",
            "2553/2553 [==============================] - 10s 4ms/step - loss: 3.5726e-06 - root_mean_squared_error: 0.0019 - mean_absolute_error: 0.0013 - val_loss: 1.0623e-06 - val_root_mean_squared_error: 0.0010 - val_mean_absolute_error: 7.1273e-04\n",
            "Epoch 14/46\n",
            "2551/2553 [============================>.] - ETA: 0s - loss: 3.2605e-06 - root_mean_squared_error: 0.0018 - mean_absolute_error: 0.0013\n",
            "Epoch 14: val_root_mean_squared_error did not improve from 0.00092\n",
            "2553/2553 [==============================] - 10s 4ms/step - loss: 3.2608e-06 - root_mean_squared_error: 0.0018 - mean_absolute_error: 0.0013 - val_loss: 1.6723e-06 - val_root_mean_squared_error: 0.0013 - val_mean_absolute_error: 0.0010\n",
            "Epoch 15/46\n",
            "2553/2553 [==============================] - ETA: 0s - loss: 3.0281e-06 - root_mean_squared_error: 0.0017 - mean_absolute_error: 0.0012\n",
            "Epoch 15: val_root_mean_squared_error improved from 0.00092 to 0.00081, saving model to best_dnn.h5\n",
            "2553/2553 [==============================] - 12s 5ms/step - loss: 3.0281e-06 - root_mean_squared_error: 0.0017 - mean_absolute_error: 0.0012 - val_loss: 6.6062e-07 - val_root_mean_squared_error: 8.1278e-04 - val_mean_absolute_error: 4.8468e-04\n",
            "Epoch 16/46\n",
            "2543/2553 [============================>.] - ETA: 0s - loss: 3.1175e-06 - root_mean_squared_error: 0.0018 - mean_absolute_error: 0.0012\n",
            "Epoch 16: val_root_mean_squared_error did not improve from 0.00081\n",
            "2553/2553 [==============================] - 10s 4ms/step - loss: 3.1165e-06 - root_mean_squared_error: 0.0018 - mean_absolute_error: 0.0012 - val_loss: 6.9752e-07 - val_root_mean_squared_error: 8.3518e-04 - val_mean_absolute_error: 5.1259e-04\n",
            "Epoch 17/46\n",
            "2553/2553 [==============================] - ETA: 0s - loss: 3.1912e-06 - root_mean_squared_error: 0.0018 - mean_absolute_error: 0.0012\n",
            "Epoch 17: val_root_mean_squared_error did not improve from 0.00081\n",
            "2553/2553 [==============================] - 11s 4ms/step - loss: 3.1912e-06 - root_mean_squared_error: 0.0018 - mean_absolute_error: 0.0012 - val_loss: 2.0158e-06 - val_root_mean_squared_error: 0.0014 - val_mean_absolute_error: 0.0010\n",
            "Epoch 18/46\n",
            "2550/2553 [============================>.] - ETA: 0s - loss: 2.8345e-06 - root_mean_squared_error: 0.0017 - mean_absolute_error: 0.0011\n",
            "Epoch 18: val_root_mean_squared_error did not improve from 0.00081\n",
            "2553/2553 [==============================] - 11s 4ms/step - loss: 2.8345e-06 - root_mean_squared_error: 0.0017 - mean_absolute_error: 0.0011 - val_loss: 6.8202e-07 - val_root_mean_squared_error: 8.2584e-04 - val_mean_absolute_error: 5.1315e-04\n",
            "Epoch 19/46\n",
            "2542/2553 [============================>.] - ETA: 0s - loss: 3.0876e-06 - root_mean_squared_error: 0.0018 - mean_absolute_error: 0.0012\n",
            "Epoch 19: val_root_mean_squared_error did not improve from 0.00081\n",
            "2553/2553 [==============================] - 10s 4ms/step - loss: 3.0902e-06 - root_mean_squared_error: 0.0018 - mean_absolute_error: 0.0012 - val_loss: 2.5421e-06 - val_root_mean_squared_error: 0.0016 - val_mean_absolute_error: 0.0013\n",
            "Epoch 20/46\n",
            "2549/2553 [============================>.] - ETA: 0s - loss: 3.0321e-06 - root_mean_squared_error: 0.0017 - mean_absolute_error: 0.0012\n",
            "Epoch 20: val_root_mean_squared_error did not improve from 0.00081\n",
            "2553/2553 [==============================] - 10s 4ms/step - loss: 3.0479e-06 - root_mean_squared_error: 0.0017 - mean_absolute_error: 0.0012 - val_loss: 8.1340e-06 - val_root_mean_squared_error: 0.0029 - val_mean_absolute_error: 0.0024\n",
            "Epoch 21/46\n",
            "2542/2553 [============================>.] - ETA: 0s - loss: 2.5494e-06 - root_mean_squared_error: 0.0016 - mean_absolute_error: 0.0011\n",
            "Epoch 21: val_root_mean_squared_error did not improve from 0.00081\n",
            "2553/2553 [==============================] - 12s 5ms/step - loss: 2.5607e-06 - root_mean_squared_error: 0.0016 - mean_absolute_error: 0.0011 - val_loss: 2.9420e-06 - val_root_mean_squared_error: 0.0017 - val_mean_absolute_error: 0.0015\n",
            "Epoch 22/46\n",
            "2542/2553 [============================>.] - ETA: 0s - loss: 2.8428e-06 - root_mean_squared_error: 0.0017 - mean_absolute_error: 0.0012\n",
            "Epoch 22: val_root_mean_squared_error improved from 0.00081 to 0.00076, saving model to best_dnn.h5\n",
            "2553/2553 [==============================] - 10s 4ms/step - loss: 2.8338e-06 - root_mean_squared_error: 0.0017 - mean_absolute_error: 0.0012 - val_loss: 5.8363e-07 - val_root_mean_squared_error: 7.6396e-04 - val_mean_absolute_error: 4.6460e-04\n",
            "Epoch 23/46\n",
            "2547/2553 [============================>.] - ETA: 0s - loss: 2.1430e-06 - root_mean_squared_error: 0.0015 - mean_absolute_error: 0.0010\n",
            "Epoch 23: val_root_mean_squared_error did not improve from 0.00076\n",
            "2553/2553 [==============================] - 12s 5ms/step - loss: 2.1415e-06 - root_mean_squared_error: 0.0015 - mean_absolute_error: 0.0010 - val_loss: 2.4652e-06 - val_root_mean_squared_error: 0.0016 - val_mean_absolute_error: 0.0014\n",
            "Epoch 24/46\n",
            "2552/2553 [============================>.] - ETA: 0s - loss: 2.4893e-06 - root_mean_squared_error: 0.0016 - mean_absolute_error: 0.0011\n",
            "Epoch 24: val_root_mean_squared_error did not improve from 0.00076\n",
            "2553/2553 [==============================] - 11s 4ms/step - loss: 2.4889e-06 - root_mean_squared_error: 0.0016 - mean_absolute_error: 0.0011 - val_loss: 6.9908e-07 - val_root_mean_squared_error: 8.3611e-04 - val_mean_absolute_error: 4.6877e-04\n",
            "Epoch 25/46\n",
            "2551/2553 [============================>.] - ETA: 0s - loss: 2.3731e-06 - root_mean_squared_error: 0.0015 - mean_absolute_error: 0.0010\n",
            "Epoch 25: val_root_mean_squared_error did not improve from 0.00076\n",
            "2553/2553 [==============================] - 11s 4ms/step - loss: 2.3727e-06 - root_mean_squared_error: 0.0015 - mean_absolute_error: 0.0010 - val_loss: 3.1434e-06 - val_root_mean_squared_error: 0.0018 - val_mean_absolute_error: 0.0014\n",
            "Epoch 26/46\n",
            "2542/2553 [============================>.] - ETA: 0s - loss: 3.1048e-06 - root_mean_squared_error: 0.0018 - mean_absolute_error: 0.0010\n",
            "Epoch 26: val_root_mean_squared_error did not improve from 0.00076\n",
            "2553/2553 [==============================] - 11s 4ms/step - loss: 3.0963e-06 - root_mean_squared_error: 0.0018 - mean_absolute_error: 0.0010 - val_loss: 1.3367e-06 - val_root_mean_squared_error: 0.0012 - val_mean_absolute_error: 9.4986e-04\n",
            "Epoch 27/46\n",
            "2552/2553 [============================>.] - ETA: 0s - loss: 2.2333e-06 - root_mean_squared_error: 0.0015 - mean_absolute_error: 0.0010\n",
            "Epoch 27: val_root_mean_squared_error did not improve from 0.00076\n",
            "2553/2553 [==============================] - 11s 4ms/step - loss: 2.2329e-06 - root_mean_squared_error: 0.0015 - mean_absolute_error: 0.0010 - val_loss: 8.2580e-07 - val_root_mean_squared_error: 9.0874e-04 - val_mean_absolute_error: 6.8088e-04\n",
            "Epoch 28/46\n",
            "2539/2553 [============================>.] - ETA: 0s - loss: 2.2970e-06 - root_mean_squared_error: 0.0015 - mean_absolute_error: 0.0010\n",
            "Epoch 28: val_root_mean_squared_error did not improve from 0.00076\n",
            "2553/2553 [==============================] - 10s 4ms/step - loss: 2.3337e-06 - root_mean_squared_error: 0.0015 - mean_absolute_error: 0.0010 - val_loss: 7.3498e-07 - val_root_mean_squared_error: 8.5731e-04 - val_mean_absolute_error: 5.9222e-04\n",
            "Epoch 29/46\n",
            "2543/2553 [============================>.] - ETA: 0s - loss: 2.4029e-06 - root_mean_squared_error: 0.0016 - mean_absolute_error: 0.0010\n",
            "Epoch 29: val_root_mean_squared_error did not improve from 0.00076\n",
            "2553/2553 [==============================] - 10s 4ms/step - loss: 2.4079e-06 - root_mean_squared_error: 0.0016 - mean_absolute_error: 0.0011 - val_loss: 1.4750e-05 - val_root_mean_squared_error: 0.0038 - val_mean_absolute_error: 0.0034\n",
            "Epoch 30/46\n",
            "2549/2553 [============================>.] - ETA: 0s - loss: 2.0055e-06 - root_mean_squared_error: 0.0014 - mean_absolute_error: 0.0010\n",
            "Epoch 30: val_root_mean_squared_error did not improve from 0.00076\n",
            "2553/2553 [==============================] - 12s 5ms/step - loss: 2.0050e-06 - root_mean_squared_error: 0.0014 - mean_absolute_error: 0.0010 - val_loss: 2.0088e-06 - val_root_mean_squared_error: 0.0014 - val_mean_absolute_error: 0.0012\n",
            "Epoch 31/46\n",
            "2552/2553 [============================>.] - ETA: 0s - loss: 2.2865e-06 - root_mean_squared_error: 0.0015 - mean_absolute_error: 9.7275e-04\n",
            "Epoch 31: val_root_mean_squared_error improved from 0.00076 to 0.00076, saving model to best_dnn.h5\n",
            "2553/2553 [==============================] - 10s 4ms/step - loss: 2.2861e-06 - root_mean_squared_error: 0.0015 - mean_absolute_error: 9.7266e-04 - val_loss: 5.7164e-07 - val_root_mean_squared_error: 7.5607e-04 - val_mean_absolute_error: 5.1687e-04\n",
            "Epoch 32/46\n",
            "2553/2553 [==============================] - ETA: 0s - loss: 2.0255e-06 - root_mean_squared_error: 0.0014 - mean_absolute_error: 9.8828e-04\n",
            "Epoch 32: val_root_mean_squared_error did not improve from 0.00076\n",
            "2553/2553 [==============================] - 11s 4ms/step - loss: 2.0255e-06 - root_mean_squared_error: 0.0014 - mean_absolute_error: 9.8828e-04 - val_loss: 2.1087e-06 - val_root_mean_squared_error: 0.0015 - val_mean_absolute_error: 0.0012\n",
            "Epoch 33/46\n",
            "2541/2553 [============================>.] - ETA: 0s - loss: 2.0928e-06 - root_mean_squared_error: 0.0014 - mean_absolute_error: 9.7526e-04\n",
            "Epoch 33: val_root_mean_squared_error did not improve from 0.00076\n",
            "2553/2553 [==============================] - 10s 4ms/step - loss: 2.0879e-06 - root_mean_squared_error: 0.0014 - mean_absolute_error: 9.7406e-04 - val_loss: 8.0883e-07 - val_root_mean_squared_error: 8.9935e-04 - val_mean_absolute_error: 6.6111e-04\n",
            "Epoch 34/46\n",
            "2541/2553 [============================>.] - ETA: 0s - loss: 1.9527e-06 - root_mean_squared_error: 0.0014 - mean_absolute_error: 9.7308e-04\n",
            "Epoch 34: val_root_mean_squared_error did not improve from 0.00076\n",
            "2553/2553 [==============================] - 11s 4ms/step - loss: 2.0255e-06 - root_mean_squared_error: 0.0014 - mean_absolute_error: 9.8445e-04 - val_loss: 7.7785e-05 - val_root_mean_squared_error: 0.0088 - val_mean_absolute_error: 0.0078\n",
            "Epoch 35/46\n",
            "2553/2553 [==============================] - ETA: 0s - loss: 2.0251e-06 - root_mean_squared_error: 0.0014 - mean_absolute_error: 9.3830e-04\n",
            "Epoch 35: val_root_mean_squared_error improved from 0.00076 to 0.00069, saving model to best_dnn.h5\n",
            "2553/2553 [==============================] - 11s 4ms/step - loss: 2.0251e-06 - root_mean_squared_error: 0.0014 - mean_absolute_error: 9.3830e-04 - val_loss: 4.6988e-07 - val_root_mean_squared_error: 6.8548e-04 - val_mean_absolute_error: 4.2947e-04\n",
            "Epoch 36/46\n",
            "2548/2553 [============================>.] - ETA: 0s - loss: 2.2854e-06 - root_mean_squared_error: 0.0015 - mean_absolute_error: 9.5587e-04\n",
            "Epoch 36: val_root_mean_squared_error did not improve from 0.00069\n",
            "2553/2553 [==============================] - 11s 4ms/step - loss: 2.2836e-06 - root_mean_squared_error: 0.0015 - mean_absolute_error: 9.5570e-04 - val_loss: 6.5072e-07 - val_root_mean_squared_error: 8.0667e-04 - val_mean_absolute_error: 5.8362e-04\n",
            "Epoch 37/46\n",
            "2547/2553 [============================>.] - ETA: 0s - loss: 1.8150e-06 - root_mean_squared_error: 0.0013 - mean_absolute_error: 9.2906e-04\n",
            "Epoch 37: val_root_mean_squared_error did not improve from 0.00069\n",
            "2553/2553 [==============================] - 10s 4ms/step - loss: 1.8159e-06 - root_mean_squared_error: 0.0013 - mean_absolute_error: 9.2962e-04 - val_loss: 1.2597e-06 - val_root_mean_squared_error: 0.0011 - val_mean_absolute_error: 8.5370e-04\n",
            "Epoch 38/46\n",
            "2543/2553 [============================>.] - ETA: 0s - loss: 1.9838e-06 - root_mean_squared_error: 0.0014 - mean_absolute_error: 9.6586e-04\n",
            "Epoch 38: val_root_mean_squared_error did not improve from 0.00069\n",
            "2553/2553 [==============================] - 12s 5ms/step - loss: 1.9809e-06 - root_mean_squared_error: 0.0014 - mean_absolute_error: 9.6545e-04 - val_loss: 4.6679e-06 - val_root_mean_squared_error: 0.0022 - val_mean_absolute_error: 0.0019\n",
            "Epoch 39/46\n",
            "2540/2553 [============================>.] - ETA: 0s - loss: 2.3067e-06 - root_mean_squared_error: 0.0015 - mean_absolute_error: 9.0021e-04\n",
            "Epoch 39: val_root_mean_squared_error did not improve from 0.00069\n",
            "2553/2553 [==============================] - 10s 4ms/step - loss: 2.2988e-06 - root_mean_squared_error: 0.0015 - mean_absolute_error: 8.9876e-04 - val_loss: 9.9222e-07 - val_root_mean_squared_error: 9.9610e-04 - val_mean_absolute_error: 7.7151e-04\n",
            "Epoch 40/46\n",
            "2547/2553 [============================>.] - ETA: 0s - loss: 1.8744e-06 - root_mean_squared_error: 0.0014 - mean_absolute_error: 9.3607e-04\n",
            "Epoch 40: val_root_mean_squared_error did not improve from 0.00069\n",
            "2553/2553 [==============================] - 12s 5ms/step - loss: 1.8716e-06 - root_mean_squared_error: 0.0014 - mean_absolute_error: 9.3520e-04 - val_loss: 5.0149e-07 - val_root_mean_squared_error: 7.0816e-04 - val_mean_absolute_error: 4.7033e-04\n",
            "Epoch 41/46\n",
            "2548/2553 [============================>.] - ETA: 0s - loss: 1.8995e-06 - root_mean_squared_error: 0.0014 - mean_absolute_error: 9.5600e-04\n",
            "Epoch 41: val_root_mean_squared_error did not improve from 0.00069\n",
            "2553/2553 [==============================] - 10s 4ms/step - loss: 1.8991e-06 - root_mean_squared_error: 0.0014 - mean_absolute_error: 9.5611e-04 - val_loss: 2.5271e-06 - val_root_mean_squared_error: 0.0016 - val_mean_absolute_error: 0.0013\n",
            "Epoch 42/46\n",
            "2542/2553 [============================>.] - ETA: 0s - loss: 1.6199e-06 - root_mean_squared_error: 0.0013 - mean_absolute_error: 8.7219e-04\n",
            "Epoch 42: val_root_mean_squared_error improved from 0.00069 to 0.00065, saving model to best_dnn.h5\n",
            "2553/2553 [==============================] - 11s 4ms/step - loss: 1.6174e-06 - root_mean_squared_error: 0.0013 - mean_absolute_error: 8.7180e-04 - val_loss: 4.1651e-07 - val_root_mean_squared_error: 6.4537e-04 - val_mean_absolute_error: 3.9551e-04\n",
            "Epoch 43/46\n",
            "2546/2553 [============================>.] - ETA: 0s - loss: 1.6715e-06 - root_mean_squared_error: 0.0013 - mean_absolute_error: 9.0129e-04\n",
            "Epoch 43: val_root_mean_squared_error did not improve from 0.00065\n",
            "2553/2553 [==============================] - 12s 5ms/step - loss: 1.6786e-06 - root_mean_squared_error: 0.0013 - mean_absolute_error: 9.0333e-04 - val_loss: 3.5403e-06 - val_root_mean_squared_error: 0.0019 - val_mean_absolute_error: 0.0017\n",
            "Epoch 44/46\n",
            "2552/2553 [============================>.] - ETA: 0s - loss: 1.9009e-06 - root_mean_squared_error: 0.0014 - mean_absolute_error: 9.2360e-04\n",
            "Epoch 44: val_root_mean_squared_error did not improve from 0.00065\n",
            "2553/2553 [==============================] - 11s 4ms/step - loss: 1.9006e-06 - root_mean_squared_error: 0.0014 - mean_absolute_error: 9.2349e-04 - val_loss: 8.9279e-07 - val_root_mean_squared_error: 9.4488e-04 - val_mean_absolute_error: 6.8990e-04\n",
            "Epoch 45/46\n",
            "2553/2553 [==============================] - ETA: 0s - loss: 1.9104e-06 - root_mean_squared_error: 0.0014 - mean_absolute_error: 9.1481e-04\n",
            "Epoch 45: val_root_mean_squared_error did not improve from 0.00065\n",
            "2553/2553 [==============================] - 10s 4ms/step - loss: 1.9104e-06 - root_mean_squared_error: 0.0014 - mean_absolute_error: 9.1481e-04 - val_loss: 4.7785e-07 - val_root_mean_squared_error: 6.9126e-04 - val_mean_absolute_error: 4.7331e-04\n",
            "Epoch 46/46\n",
            "2551/2553 [============================>.] - ETA: 0s - loss: 1.5567e-06 - root_mean_squared_error: 0.0012 - mean_absolute_error: 8.6432e-04\n",
            "Epoch 46: val_root_mean_squared_error did not improve from 0.00065\n",
            "2553/2553 [==============================] - 11s 4ms/step - loss: 1.5561e-06 - root_mean_squared_error: 0.0012 - mean_absolute_error: 8.6411e-04 - val_loss: 8.2503e-07 - val_root_mean_squared_error: 9.0831e-04 - val_mean_absolute_error: 7.0526e-04\n",
            "Figure(800x500)\n",
            "Figure(640x480)\n"
          ]
        }
      ]
    },
    {
      "cell_type": "code",
      "source": [
        "!git pull"
      ],
      "metadata": {
        "id": "GuWuLdbs-IWZ",
        "outputId": "c002e1ef-338a-4577-bc32-bae5d21a4e93",
        "colab": {
          "base_uri": "https://localhost:8080/"
        }
      },
      "execution_count": null,
      "outputs": [
        {
          "output_type": "stream",
          "name": "stdout",
          "text": [
            "remote: Enumerating objects: 5, done.\u001b[K\n",
            "remote: Counting objects:  20% (1/5)\u001b[K\rremote: Counting objects:  40% (2/5)\u001b[K\rremote: Counting objects:  60% (3/5)\u001b[K\rremote: Counting objects:  80% (4/5)\u001b[K\rremote: Counting objects: 100% (5/5)\u001b[K\rremote: Counting objects: 100% (5/5), done.\u001b[K\n",
            "remote: Compressing objects: 100% (1/1)\u001b[K\rremote: Compressing objects: 100% (1/1), done.\u001b[K\n",
            "remote: Total 3 (delta 2), reused 3 (delta 2), pack-reused 0\u001b[K\n",
            "Unpacking objects:  33% (1/3)\rUnpacking objects:  66% (2/3)\rUnpacking objects: 100% (3/3)\rUnpacking objects: 100% (3/3), 280 bytes | 280.00 KiB/s, done.\n",
            "From https://github.com/SAR2652/NIFTY-50-Prediction\n",
            "   8dc1973..1139558  main       -> origin/main\n",
            "Updating 8dc1973..1139558\n",
            "Fast-forward\n",
            " inference.py | 2 \u001b[32m+\u001b[m\u001b[31m-\u001b[m\n",
            " 1 file changed, 1 insertion(+), 1 deletion(-)\n"
          ]
        }
      ]
    },
    {
      "cell_type": "code",
      "source": [
        "!python inference.py"
      ],
      "metadata": {
        "colab": {
          "base_uri": "https://localhost:8080/"
        },
        "id": "LdHvNgb81Dqy",
        "outputId": "a82bd7ae-b435-49eb-9e27-9d1b2e8bd783"
      },
      "execution_count": null,
      "outputs": [
        {
          "output_type": "stream",
          "name": "stdout",
          "text": [
            "2023-03-08 02:06:51.352475: I tensorflow/core/platform/cpu_feature_guard.cc:193] This TensorFlow binary is optimized with oneAPI Deep Neural Network Library (oneDNN) to use the following CPU instructions in performance-critical operations:  AVX2 AVX512F FMA\n",
            "To enable them in other operations, rebuild TensorFlow with the appropriate compiler flags.\n",
            "2023-03-08 02:06:52.207775: W tensorflow/compiler/xla/stream_executor/platform/default/dso_loader.cc:64] Could not load dynamic library 'libnvinfer.so.7'; dlerror: libnvinfer.so.7: cannot open shared object file: No such file or directory; LD_LIBRARY_PATH: /usr/lib64-nvidia\n",
            "2023-03-08 02:06:52.207884: W tensorflow/compiler/xla/stream_executor/platform/default/dso_loader.cc:64] Could not load dynamic library 'libnvinfer_plugin.so.7'; dlerror: libnvinfer_plugin.so.7: cannot open shared object file: No such file or directory; LD_LIBRARY_PATH: /usr/lib64-nvidia\n",
            "2023-03-08 02:06:52.207912: W tensorflow/compiler/tf2tensorrt/utils/py_utils.cc:38] TF-TRT Warning: Cannot dlopen some TensorRT libraries. If you would like to use Nvidia GPU with TensorRT, please make sure the missing libraries mentioned above are installed properly.\n",
            "2023-03-08 02:06:54.763230: W tensorflow/core/common_runtime/gpu/gpu_bfc_allocator.cc:42] Overriding orig_value setting because the TF_FORCE_GPU_ALLOW_GROWTH environment variable is set. Original config value was 0.\n",
            "851/851 [==============================] - 2s 1ms/step\n",
            "Root Mean Squared Error = 18.298508513707247\n",
            "R^2 Score = 0.9999931024577865\n"
          ]
        }
      ]
    }
  ]
}